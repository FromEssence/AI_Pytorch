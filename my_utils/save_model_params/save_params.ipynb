{
 "cells": [
  {
   "cell_type": "markdown",
   "metadata": {},
   "source": [
    "### 保存网络参数\n",
    "\n",
    "\n",
    "\n",
    "\n",
    "\n",
    "\n",
    "\n",
    "\n",
    "\n",
    "\n",
    "\n",
    "\n",
    "\n",
    "\n",
    "\n"
   ]
  },
  {
   "cell_type": "code",
   "execution_count": 17,
   "metadata": {},
   "outputs": [
    {
     "name": "stdout",
     "output_type": "stream",
     "text": [
      "网络初始状态第一层权重：\n",
      " tensor([[-0.0173, -0.0097, -0.0085,  ..., -0.0290,  0.0104,  0.0066],\n",
      "        [ 0.0192,  0.0189,  0.0335,  ...,  0.0289, -0.0073, -0.0337],\n",
      "        [ 0.0089,  0.0338,  0.0042,  ..., -0.0267,  0.0197,  0.0350],\n",
      "        ...,\n",
      "        [-0.0024,  0.0323, -0.0029,  ...,  0.0131, -0.0167, -0.0095],\n",
      "        [ 0.0346, -0.0033,  0.0261,  ...,  0.0190,  0.0202, -0.0195],\n",
      "        [-0.0332,  0.0220,  0.0320,  ..., -0.0154,  0.0294, -0.0156]])\n"
     ]
    }
   ],
   "source": [
    "# -*- coding: utf-8 -*-\n",
    "import torch\n",
    "from torch import nn\n",
    "from torch import optim\n",
    "\n",
    "import numpy as np\n",
    "from time import time\n",
    "\n",
    "\n",
    "def setup_seed(seed):\n",
    "     torch.manual_seed(seed)\n",
    "     torch.cuda.manual_seed_all(seed)\n",
    "     np.random.seed(seed)\n",
    "     torch.backends.cudnn.deterministic = True\n",
    "# 设置随机数种子\n",
    "setup_seed(97)\n",
    "\n",
    "\n",
    "def MNIST_MLP_Net():\n",
    "    \n",
    "    # 参数设置\n",
    "    input_size = 28*28\n",
    "    hidden_sizes = [128, 64] #2层隐藏层\n",
    "    output_size = 10 #10类数字\n",
    "    \n",
    "    # 搭建全连接网络\n",
    "    net = nn.Sequential(nn.Linear(input_size,hidden_sizes[0]),\n",
    "                        nn.ReLU(),\n",
    "                        nn.Linear(hidden_sizes[0],hidden_sizes[1]),\n",
    "                        nn.ReLU(),\n",
    "                        nn.Linear(hidden_sizes[1],output_size),\n",
    "                        nn.LogSoftmax(dim=1)) \n",
    "    \n",
    "    return net\n",
    "\n",
    "\n",
    "def save_current_weights(net):\n",
    "    \n",
    "    '''\n",
    "    func: \n",
    "        拷贝一份当前网络参数的值，而非引用\n",
    "    params:\n",
    "        net : 需要保存当前各层权重参数的torch生成的网络\n",
    "    '''\n",
    "    # 保存初始梯度,不记录此操作的梯度\n",
    "    # param.clone()返回的是值，不是引用\n",
    "    weights = []\n",
    "    with torch.no_grad():\n",
    "        for param in net.parameters():\n",
    "            weights.append(param.clone())\n",
    "    \n",
    "    return weights\n",
    "    \n",
    "    \n",
    "net = MNIST_MLP_Net()\n",
    "wei_before = save_current_weights(net)\n",
    "\n",
    "print(\"网络初始状态第一层权重：\\n\",wei_before[0])\n"
   ]
  },
  {
   "cell_type": "markdown",
   "metadata": {},
   "source": [
    "#### 参考自：\n",
    "1. [拷贝网络权值而不是引用的方法](https://stackoverflow.com/questions/51717874/why-is-it-in-pytorch-when-i-make-a-copy-of-a-networks-weight-it-would-be-automa)"
   ]
  },
  {
   "cell_type": "code",
   "execution_count": null,
   "metadata": {},
   "outputs": [],
   "source": []
  }
 ],
 "metadata": {
  "kernelspec": {
   "display_name": "Python 3",
   "language": "python",
   "name": "python3"
  },
  "language_info": {
   "codemirror_mode": {
    "name": "ipython",
    "version": 3
   },
   "file_extension": ".py",
   "mimetype": "text/x-python",
   "name": "python",
   "nbconvert_exporter": "python",
   "pygments_lexer": "ipython3",
   "version": "3.6.9"
  }
 },
 "nbformat": 4,
 "nbformat_minor": 4
}
