{
 "cells": [
  {
   "cell_type": "markdown",
   "metadata": {},
   "source": [
    "### Pytorch梯度计算图保留\n",
    "#### 应用场景\n",
    "* 需要对反向传播得到的梯度做进一步计算，例如二次导数。但是默认情况下反向传播后只能通过`.grad`属性拿到梯度的标量值，\\\n",
    "  无法用于优化。\n",
    "  \n",
    "#### 解决方法\n",
    "1. 计算梯度时指定参数`create_graph`为`True`，这样可以保留梯度计算图。\n",
    "\n",
    "#### 实例"
   ]
  },
  {
   "cell_type": "code",
   "execution_count": null,
   "metadata": {},
   "outputs": [],
   "source": [
    "'''\n",
    "例1: 1）计算函数`y=2x^3`的二阶导数，\n",
    "     2）对一阶导函数做梯度下降。\n",
    "下面给出两种实现方法\n",
    "'''\n",
    "import torch\n",
    "from torch.optim import SGD\n",
    "\n",
    "# 准备数据\n",
    "# 设自变量x为2，后面对它求导\n",
    "x = torch.ones(1)\n",
    "x[0] = 2\n",
    "x.requires_grad = True\n",
    "\n",
    "# 函数\n",
    "y = 2*x*x*x\n",
    "\n",
    "'''\n",
    "方法1：\n",
    "    直接调用自动微分函数获得梯度\n",
    "'''\n",
    "d1 = torch.autograd.grad(y, x, create_graph=True)[0]\n",
    "print(d1.grad)\n",
    "print('y关于x一阶导：',d1)\n",
    "d2 = torch.autograd.grad(d1, x)[0] #因为不需要求三阶导，故这里不再保存梯度计算图\n",
    "print('y关于x二阶导：', d2)\n"
   ]
  },
  {
   "cell_type": "code",
   "execution_count": 14,
   "metadata": {},
   "outputs": [
    {
     "name": "stdout",
     "output_type": "stream",
     "text": [
      "y关于x一阶导： tensor([24.], grad_fn=<CloneBackward>)\n",
      "y关于x二阶导： tensor([24.], grad_fn=<CloneBackward>)\n"
     ]
    }
   ],
   "source": [
    "'''\n",
    "方法2\n",
    "'''\n",
    "import torch\n",
    "from torch.optim import SGD\n",
    "\n",
    "# 准备数据\n",
    "# 设自变量x为2，后面对它求导\n",
    "x = torch.ones(1)\n",
    "x[0] = 2\n",
    "x.requires_grad = True\n",
    "\n",
    "# 函数\n",
    "y = 2*x*x*x\n",
    "\n",
    "'''\n",
    "方法2：\n",
    "    backward()反向传播中获得梯度\n",
    "'''\n",
    "y.backward(create_graph=True,retain_graph=True)\n",
    "\n",
    "d1 = x.grad\n",
    "print('y关于x一阶导：',d1)\n",
    "\n",
    "# 注意先清空x的梯度，否则会累加，得到24+24=48\n",
    "x.grad=None\n",
    "d1.backward(create_graph=True)\n",
    "print('y关于x二阶导：', x.grad)\n"
   ]
  },
  {
   "cell_type": "code",
   "execution_count": 7,
   "metadata": {},
   "outputs": [
    {
     "data": {
      "text/plain": [
       "tensor([24.], grad_fn=<CloneBackward>)"
      ]
     },
     "execution_count": 7,
     "metadata": {},
     "output_type": "execute_result"
    }
   ],
   "source": [
    "d1"
   ]
  },
  {
   "cell_type": "code",
   "execution_count": 13,
   "metadata": {},
   "outputs": [
    {
     "data": {
      "text/plain": [
       "tensor([1.])"
      ]
     },
     "execution_count": 13,
     "metadata": {},
     "output_type": "execute_result"
    }
   ],
   "source": [
    "y.grad"
   ]
  },
  {
   "cell_type": "code",
   "execution_count": null,
   "metadata": {},
   "outputs": [],
   "source": []
  }
 ],
 "metadata": {
  "kernelspec": {
   "display_name": "Python 3",
   "language": "python",
   "name": "python3"
  },
  "language_info": {
   "codemirror_mode": {
    "name": "ipython",
    "version": 3
   },
   "file_extension": ".py",
   "mimetype": "text/x-python",
   "name": "python",
   "nbconvert_exporter": "python",
   "pygments_lexer": "ipython3",
   "version": "3.6.9"
  }
 },
 "nbformat": 4,
 "nbformat_minor": 4
}
